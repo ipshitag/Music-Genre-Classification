{
  "nbformat": 4,
  "nbformat_minor": 0,
  "metadata": {
    "colab": {
      "name": "music_genre_classifiction(CNN).ipynb",
      "provenance": []
    },
    "kernelspec": {
      "name": "python3",
      "display_name": "Python 3"
    },
    "language_info": {
      "name": "python"
    }
  },
  "cells": [
    {
      "cell_type": "code",
      "metadata": {
        "id": "dSTuko0vvPzF"
      },
      "source": [
        "#import libraries\n",
        "import json\n",
        "import numpy as np\n",
        "from sklearn.model_selection import train_test_split\n",
        "import tensorflow.keras as keras\n",
        "import matplotlib.pyplot as plt"
      ],
      "execution_count": null,
      "outputs": []
    },
    {
      "cell_type": "code",
      "metadata": {
        "id": "uPbagAra8vXH",
        "colab": {
          "base_uri": "https://localhost:8080/"
        },
        "outputId": "dadf26ff-0c86-4483-9947-c237c3cf0b99"
      },
      "source": [
        "from google.colab import drive\n",
        "drive.mount('/content/drive')"
      ],
      "execution_count": null,
      "outputs": [
        {
          "output_type": "stream",
          "name": "stdout",
          "text": [
            "Mounted at /content/drive\n"
          ]
        }
      ]
    },
    {
      "cell_type": "code",
      "metadata": {
        "id": "tisUXwwqvSJc"
      },
      "source": [
        "DATA_PATH = \"/content/drive/MyDrive/audio_data.json\""
      ],
      "execution_count": null,
      "outputs": []
    },
    {
      "cell_type": "code",
      "metadata": {
        "id": "1Ifh-OyPvovH"
      },
      "source": [
        "# plan\n",
        "\n",
        "#create train, validation and test set\n",
        "#build the CNN net\n",
        "#compile the network\n",
        "#train the CNN\n",
        "#evaluate the CNN on the test set\n",
        "#make predictions on a sample"
      ],
      "execution_count": null,
      "outputs": []
    },
    {
      "cell_type": "code",
      "metadata": {
        "id": "lxuQ1Ez_vIwb"
      },
      "source": [
        "def load_data(data_path):\n",
        "    \"\"\"Loads training dataset from json file.\n",
        "        :param data_path (str): Path to json file containing data\n",
        "        :return X (ndarray): Inputs\n",
        "        :return y (ndarray): Targets\n",
        "    \"\"\"\n",
        "\n",
        "    with open(data_path, \"r\") as fp:\n",
        "        data = json.load(fp)\n",
        "\n",
        "    X = np.array(data[\"mfcc\"])\n",
        "    y = np.array(data[\"labels\"])\n",
        "    return X, y"
      ],
      "execution_count": null,
      "outputs": []
    },
    {
      "cell_type": "code",
      "metadata": {
        "id": "1P9KW-WiviiL"
      },
      "source": [
        "def plot_history(history):\n",
        "    \"\"\"Plots accuracy/loss for training/validation set as a function of the epochs\n",
        "        :param history: Training history of model\n",
        "        :return:\n",
        "    \"\"\"\n",
        "\n",
        "    fig, axs = plt.subplots(2)\n",
        "    fig.tight_layout()\n",
        "\n",
        "    # create accuracy sublpot\n",
        "    axs[0].plot(history.history[\"accuracy\"], label=\"train accuracy\")\n",
        "    axs[0].plot(history.history[\"val_accuracy\"], label=\"test accuracy\")\n",
        "    axs[0].set_ylabel(\"Accuracy\")\n",
        "    axs[0].legend(loc = \"upper left\")\n",
        "    axs[0].set_title(\"Accuracy eval\")\n",
        "\n",
        "\n",
        "    # create error sublpot\n",
        "    axs[1].plot(history.history[\"loss\"], label=\"train error\")\n",
        "    axs[1].plot(history.history[\"val_loss\"], label=\"test error\")\n",
        "    axs[1].set_ylabel(\"Error\")\n",
        "    axs[1].set_xlabel(\"Epoch\")\n",
        "    axs[1].legend(loc=\"lower left\")\n",
        "    axs[1].set_title(\"Error eval\")\n",
        "\n",
        "    plt.show()"
      ],
      "execution_count": null,
      "outputs": []
    },
    {
      "cell_type": "code",
      "metadata": {
        "id": "8T9HVRME1ePV"
      },
      "source": [
        "def prepare_dataset(test_size,validation_size):\n",
        "    \"\"\"Splits the data into training, testing and validation sets\n",
        "        :param test_size: percentage of data as test data\n",
        "        :param validation_size: percentage of data as validation data\n",
        "        :return X_train(ndarray) : training data on Input\n",
        "        :return y_train(ndarray) : training data on Output\n",
        "        :return X_test(ndarray) : test data on Input\n",
        "        :return y_test(ndarray) : test data on Output\n",
        "        :return X_validation(ndarray) : validation set of Input\n",
        "        :return y_validation(ndarray) : validation set of Output\n",
        "    \"\"\"\n",
        "    \n",
        "    #load data\n",
        "    X,y = load_data(DATA_PATH)\n",
        "    \n",
        "    # create train/test split\n",
        "    X_train, X_test, y_train, y_test = train_test_split(X,y,test_size=test_size)\n",
        "    \n",
        "    # create train/validation split\n",
        "    X_train, X_validation, y_train, y_validation = train_test_split(X_train,y_train,test_size=validation_size)\n",
        "    \n",
        "    #add extra dimension\n",
        "    X_train = X_train[...,np.newaxis] #4d array\n",
        "    X_validation = X_validation[...,np.newaxis]\n",
        "    X_test = X_test[...,np.newaxis]\n",
        "    \n",
        "    #return\n",
        "    return X_train, X_validation, X_test, y_train, y_validation, y_test\n"
      ],
      "execution_count": null,
      "outputs": []
    },
    {
      "cell_type": "code",
      "metadata": {
        "id": "d3E-7wLHBN5i"
      },
      "source": [
        "def build_model(input_shape):\n",
        "  \"\"\"builds a convulational network with three layers\n",
        "     :param input_shape: the shape of the input as 3 dimensions\n",
        "     :return model: the CNN model\n",
        "  \"\"\"\n",
        "  #create model\n",
        "  model = keras.Sequential()\n",
        "  \n",
        "  #1st conv layer\n",
        "  model.add(keras.layers.Conv2D(32, #number of kernels\n",
        "                               (3,3), #size of kernel\n",
        "                                activation = 'relu',\n",
        "                                input_shape = input_shape))\n",
        "  \n",
        "  model.add(keras.layers.MaxPool2D((3,3), #size\n",
        "                                   strides = (2,2),\n",
        "                                   padding = 'same'))\n",
        "  \n",
        "  model.add(keras.layers.BatchNormalization())\n",
        "\n",
        "  #2nd conv layer\n",
        "  model.add(keras.layers.Conv2D(32, #number of kernels\n",
        "                               (3,3), #size of kernel\n",
        "                                activation = 'relu',\n",
        "                                input_shape = input_shape))\n",
        "  \n",
        "  model.add(keras.layers.MaxPool2D((3,3), #size\n",
        "                                   strides = (2,2),\n",
        "                                   padding = 'same'))\n",
        "  \n",
        "  model.add(keras.layers.BatchNormalization())\n",
        "\n",
        "  #3rd conv layer\n",
        "  model.add(keras.layers.Conv2D(32, #number of kernels\n",
        "                               (2,2), #size of kernel\n",
        "                                activation = 'relu',\n",
        "                                input_shape = input_shape))\n",
        "  \n",
        "  model.add(keras.layers.MaxPool2D((2,2), #size\n",
        "                                   strides = (2,2),\n",
        "                                   padding = 'same'))\n",
        "  \n",
        "  model.add(keras.layers.BatchNormalization())\n",
        "\n",
        "  #flatten the output and feed it into dense layer\n",
        "  model.add(keras.layers.Flatten())\n",
        "  model.add(keras.layers.Dense(64, \n",
        "                               activation='relu'))\n",
        "  model.add(keras.layers.Dropout(0.3))\n",
        "\n",
        "  #outut layer\n",
        "  model.add(keras.layers.Dense(10, activation = 'softmax'))\n",
        "\n",
        "  #return model\n",
        "  return model"
      ],
      "execution_count": null,
      "outputs": []
    },
    {
      "cell_type": "code",
      "metadata": {
        "id": "KeUd-r2cODP2"
      },
      "source": [
        "def predict(X,y,model):\n",
        "  \"\"\"Predicts on a single data \n",
        "    param X: Input data\n",
        "    param y: true output of given data\n",
        "  \"\"\"\n",
        "  \n",
        "  X = X[np.newaxis, ...]\n",
        "  prediction = model.predict(X) \n",
        "\n",
        "  #extract index with max value\n",
        "  predicted_index = np.argmax(prediction, axis=1)\n",
        "\n",
        "  print(\"Expected  index: {}, predicted index: {}\".format(y,predicted_index))"
      ],
      "execution_count": null,
      "outputs": []
    },
    {
      "cell_type": "code",
      "metadata": {
        "id": "hX85p98n0nbT"
      },
      "source": [
        "#create train, validation and test set \n",
        "X_train, X_validation, X_test, y_train, y_validation, y_test = prepare_dataset(0.25,0.2)"
      ],
      "execution_count": null,
      "outputs": []
    },
    {
      "cell_type": "code",
      "metadata": {
        "id": "o1NNuVeB1hC9"
      },
      "source": [
        "#build the CNN net\n",
        "input_shape = (X_train.shape[1], X_train.shape[2], X_train.shape[3])\n",
        "model = build_model(input_shape)"
      ],
      "execution_count": null,
      "outputs": []
    },
    {
      "cell_type": "code",
      "metadata": {
        "id": "0n6wcVouGcyc"
      },
      "source": [
        "#compile the network\n",
        "optimizer = keras.optimizers.Adam(learning_rate=0.0001)\n",
        "model.compile(optimizer=optimizer,\n",
        "              loss = \"sparse_categorical_crossentropy\",\n",
        "              metrics = ['accuracy'])"
      ],
      "execution_count": null,
      "outputs": []
    },
    {
      "cell_type": "code",
      "metadata": {
        "colab": {
          "base_uri": "https://localhost:8080/"
        },
        "id": "Yf8Fo5p3G54J",
        "outputId": "c8e97734-5477-45f5-c91d-8e2c5a3400a0"
      },
      "source": [
        "#train the CNN\n",
        "history = model.fit(X_train, y_train, \n",
        "          validation_data = (X_validation, y_validation), \n",
        "          batch_size = 32, epochs = 30)"
      ],
      "execution_count": null,
      "outputs": [
        {
          "output_type": "stream",
          "name": "stdout",
          "text": [
            "Epoch 1/30\n",
            "188/188 [==============================] - 13s 63ms/step - loss: 2.4270 - accuracy: 0.2244 - val_loss: 1.8421 - val_accuracy: 0.3460\n",
            "Epoch 2/30\n",
            "188/188 [==============================] - 12s 62ms/step - loss: 1.8708 - accuracy: 0.3590 - val_loss: 1.5440 - val_accuracy: 0.4340\n",
            "Epoch 3/30\n",
            "188/188 [==============================] - 12s 64ms/step - loss: 1.6384 - accuracy: 0.4140 - val_loss: 1.4160 - val_accuracy: 0.4807\n",
            "Epoch 4/30\n",
            "188/188 [==============================] - 14s 75ms/step - loss: 1.5201 - accuracy: 0.4602 - val_loss: 1.3383 - val_accuracy: 0.5040\n",
            "Epoch 5/30\n",
            "188/188 [==============================] - 12s 65ms/step - loss: 1.4257 - accuracy: 0.4874 - val_loss: 1.2827 - val_accuracy: 0.5227\n",
            "Epoch 6/30\n",
            "188/188 [==============================] - 12s 66ms/step - loss: 1.3399 - accuracy: 0.5121 - val_loss: 1.2488 - val_accuracy: 0.5287\n",
            "Epoch 7/30\n",
            "188/188 [==============================] - 12s 65ms/step - loss: 1.3041 - accuracy: 0.5286 - val_loss: 1.2014 - val_accuracy: 0.5487\n",
            "Epoch 8/30\n",
            "188/188 [==============================] - 12s 64ms/step - loss: 1.2581 - accuracy: 0.5468 - val_loss: 1.1699 - val_accuracy: 0.5600\n",
            "Epoch 9/30\n",
            "188/188 [==============================] - 12s 63ms/step - loss: 1.2095 - accuracy: 0.5633 - val_loss: 1.1434 - val_accuracy: 0.5747\n",
            "Epoch 10/30\n",
            "188/188 [==============================] - 12s 64ms/step - loss: 1.1763 - accuracy: 0.5735 - val_loss: 1.1127 - val_accuracy: 0.6027\n",
            "Epoch 11/30\n",
            "188/188 [==============================] - 12s 65ms/step - loss: 1.1205 - accuracy: 0.5901 - val_loss: 1.0941 - val_accuracy: 0.6047\n",
            "Epoch 12/30\n",
            "188/188 [==============================] - 12s 64ms/step - loss: 1.1056 - accuracy: 0.6035 - val_loss: 1.0719 - val_accuracy: 0.6093\n",
            "Epoch 13/30\n",
            "188/188 [==============================] - 12s 66ms/step - loss: 1.0529 - accuracy: 0.6216 - val_loss: 1.0478 - val_accuracy: 0.6167\n",
            "Epoch 14/30\n",
            "188/188 [==============================] - 13s 67ms/step - loss: 1.0338 - accuracy: 0.6316 - val_loss: 1.0212 - val_accuracy: 0.6200\n",
            "Epoch 15/30\n",
            "188/188 [==============================] - 13s 67ms/step - loss: 1.0033 - accuracy: 0.6380 - val_loss: 1.0119 - val_accuracy: 0.6407\n",
            "Epoch 16/30\n",
            "188/188 [==============================] - 12s 64ms/step - loss: 0.9784 - accuracy: 0.6570 - val_loss: 0.9987 - val_accuracy: 0.6307\n",
            "Epoch 17/30\n",
            "188/188 [==============================] - 12s 66ms/step - loss: 0.9565 - accuracy: 0.6602 - val_loss: 0.9889 - val_accuracy: 0.6347\n",
            "Epoch 18/30\n",
            "188/188 [==============================] - 12s 63ms/step - loss: 0.9292 - accuracy: 0.6743 - val_loss: 0.9711 - val_accuracy: 0.6513\n",
            "Epoch 19/30\n",
            "188/188 [==============================] - 12s 63ms/step - loss: 0.9014 - accuracy: 0.6847 - val_loss: 0.9486 - val_accuracy: 0.6573\n",
            "Epoch 20/30\n",
            "188/188 [==============================] - 12s 63ms/step - loss: 0.8812 - accuracy: 0.6985 - val_loss: 0.9782 - val_accuracy: 0.6400\n",
            "Epoch 21/30\n",
            "188/188 [==============================] - 12s 64ms/step - loss: 0.8564 - accuracy: 0.7004 - val_loss: 0.9716 - val_accuracy: 0.6427\n",
            "Epoch 22/30\n",
            "188/188 [==============================] - 12s 63ms/step - loss: 0.8417 - accuracy: 0.7075 - val_loss: 0.9111 - val_accuracy: 0.6727\n",
            "Epoch 23/30\n",
            "188/188 [==============================] - 12s 64ms/step - loss: 0.8191 - accuracy: 0.7125 - val_loss: 0.8973 - val_accuracy: 0.6720\n",
            "Epoch 24/30\n",
            "188/188 [==============================] - 12s 63ms/step - loss: 0.7988 - accuracy: 0.7245 - val_loss: 0.9146 - val_accuracy: 0.6673\n",
            "Epoch 25/30\n",
            "188/188 [==============================] - 12s 64ms/step - loss: 0.7965 - accuracy: 0.7232 - val_loss: 0.8887 - val_accuracy: 0.6727\n",
            "Epoch 26/30\n",
            "188/188 [==============================] - 12s 64ms/step - loss: 0.7618 - accuracy: 0.7357 - val_loss: 0.8984 - val_accuracy: 0.6767\n",
            "Epoch 27/30\n",
            "188/188 [==============================] - 12s 64ms/step - loss: 0.7431 - accuracy: 0.7357 - val_loss: 0.8712 - val_accuracy: 0.6747\n",
            "Epoch 28/30\n",
            "188/188 [==============================] - 12s 64ms/step - loss: 0.7317 - accuracy: 0.7455 - val_loss: 0.8573 - val_accuracy: 0.6813\n",
            "Epoch 29/30\n",
            "188/188 [==============================] - 12s 64ms/step - loss: 0.7354 - accuracy: 0.7474 - val_loss: 0.8540 - val_accuracy: 0.6893\n",
            "Epoch 30/30\n",
            "188/188 [==============================] - 12s 66ms/step - loss: 0.7149 - accuracy: 0.7497 - val_loss: 0.8500 - val_accuracy: 0.6873\n"
          ]
        }
      ]
    },
    {
      "cell_type": "code",
      "metadata": {
        "colab": {
          "base_uri": "https://localhost:8080/"
        },
        "id": "-IHoFNc0HVc8",
        "outputId": "bdc4dd18-1a62-4e6a-b0c3-d1d74b098495"
      },
      "source": [
        "#evaluate the CNN on the test set\n",
        "test_error, test_accuracy = model.evaluate(X_test, y_test, verbose = 1)\n",
        "print(\"Accuracy on test set is {}\".format(test_accuracy))\n",
        "print(\"Error on test set is {}\".format(test_error))"
      ],
      "execution_count": null,
      "outputs": [
        {
          "output_type": "stream",
          "name": "stdout",
          "text": [
            "79/79 [==============================] - 1s 15ms/step - loss: 0.7977 - accuracy: 0.7227\n",
            "Accuracy on test set is 0.7226890921592712\n",
            "Error on test set is 0.7977233529090881\n"
          ]
        }
      ]
    },
    {
      "cell_type": "code",
      "metadata": {
        "colab": {
          "base_uri": "https://localhost:8080/",
          "height": 323
        },
        "id": "7q7ZJ7TuMdS8",
        "outputId": "f58fa002-684f-4f25-bf07-8b3ccbe79a05"
      },
      "source": [
        "plot_history(history)"
      ],
      "execution_count": null,
      "outputs": [
        {
          "output_type": "display_data",
          "data": {
            "image/png": "[encoded data removed]",
            "text/plain": [
              "<Figure size 432x288 with 2 Axes>"
            ]
          },
          "metadata": {
            "needs_background": "light"
          }
        }
      ]
    },
    {
      "cell_type": "code",
      "metadata": {
        "id": "MfwdlDfqA91R",
        "colab": {
          "base_uri": "https://localhost:8080/"
        },
        "outputId": "9c8c7c40-4cb0-4f58-d0a5-f80105b16daa"
      },
      "source": [
        "import random\n",
        "\n",
        "for i in range(1,11):\n",
        "    num = random.randint(0, 2499)\n",
        "\n",
        "    X = X_test[num]\n",
        "    y = y_test[num]\n",
        "\n",
        "    predict(X, y, model)"
      ],
      "execution_count": null,
      "outputs": [
        {
          "output_type": "stream",
          "name": "stdout",
          "text": [
            "Expected  index: 5, predicted index: [5]\n",
            "Expected  index: 6, predicted index: [6]\n",
            "Expected  index: 4, predicted index: [4]\n",
            "Expected  index: 3, predicted index: [3]\n",
            "Expected  index: 2, predicted index: [7]\n",
            "Expected  index: 8, predicted index: [8]\n",
            "Expected  index: 9, predicted index: [9]\n",
            "Expected  index: 7, predicted index: [4]\n",
            "Expected  index: 7, predicted index: [7]\n",
            "Expected  index: 2, predicted index: [2]\n"
          ]
        }
      ]
    }
  ]
}